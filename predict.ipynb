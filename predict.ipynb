{
  "nbformat": 4,
  "nbformat_minor": 0,
  "metadata": {
    "colab": {
      "name": "Predict.ipynb",
      "provenance": [],
      "collapsed_sections": []
    },
    "kernelspec": {
      "name": "python3",
      "display_name": "Python 3"
    }
  },
  "cells": [
    {
      "cell_type": "code",
      "metadata": {
        "id": "Sv5BHbs7srCh",
        "colab_type": "code",
        "colab": {
          "base_uri": "https://localhost:8080/",
          "height": 124
        },
        "outputId": "6d72a521-f20a-4ca8-e2e7-81c2bb803e1b"
      },
      "source": [
        "from google.colab import drive\n",
        "drive.mount('/content/gdrive')"
      ],
      "execution_count": 1,
      "outputs": [
        {
          "output_type": "stream",
          "text": [
            "Go to this URL in a browser: https://accounts.google.com/o/oauth2/auth?client_id=947318989803-6bn6qk8qdgf4n4g3pfee6491hc0brc4i.apps.googleusercontent.com&redirect_uri=urn%3aietf%3awg%3aoauth%3a2.0%3aoob&response_type=code&scope=email%20https%3a%2f%2fwww.googleapis.com%2fauth%2fdocs.test%20https%3a%2f%2fwww.googleapis.com%2fauth%2fdrive%20https%3a%2f%2fwww.googleapis.com%2fauth%2fdrive.photos.readonly%20https%3a%2f%2fwww.googleapis.com%2fauth%2fpeopleapi.readonly\n",
            "\n",
            "Enter your authorization code:\n",
            "··········\n",
            "Mounted at /content/gdrive\n"
          ],
          "name": "stdout"
        }
      ]
    },
    {
      "cell_type": "code",
      "metadata": {
        "id": "P85GN8bltsDK",
        "colab_type": "code",
        "colab": {}
      },
      "source": [
        "import cv2\n",
        "import pickle\n",
        "import numpy as np\n",
        "%matplotlib inline\n",
        "from matplotlib import pyplot as plt\n",
        "from keras.models import model_from_json\n",
        "from keras.applications.xception import preprocess_input as pi_xception\n",
        "from keras.applications.inception_resnet_v2 import preprocess_input as pi_irnv2"
      ],
      "execution_count": 32,
      "outputs": []
    },
    {
      "cell_type": "code",
      "metadata": {
        "id": "8pQtGwvOz4WG",
        "colab_type": "code",
        "colab": {}
      },
      "source": [
        "PATH_W = '/content/gdrive/My Drive/ensemble_normalized_weights.pkl'\n",
        "PATH_THRESH = '/content/gdrive/My Drive/thresholds.npy'\n",
        "with open(PATH_W, 'rb') as fp:\n",
        "    NORM_WEIGHTS = pickle.load(fp)\n",
        "THRESHOLDS = np.load(PATH_THRESH)"
      ],
      "execution_count": 33,
      "outputs": []
    },
    {
      "cell_type": "code",
      "metadata": {
        "id": "N6_j6WALsuuz",
        "colab_type": "code",
        "colab": {}
      },
      "source": [
        "MODEL_NAMES = ['xception', 'irnv2', 'dn121', 'dn169', 'dn201']\n",
        "\n",
        "PATHS_ARCH = {\n",
        "    'xception' : '/content/gdrive/My Drive/Model-Architectures/architecture_xception.json',\n",
        "    'irnv2'    : '/content/gdrive/My Drive/Model-Architectures/architecture_irnv2.json',\n",
        "    'dn121'    : '/content/gdrive/My Drive/Model-Architectures/architecture_dn121.json',\n",
        "    'dn169'    : '/content/gdrive/My Drive/Model-Architectures/architecture_dn169.json',\n",
        "    'dn201'    : '/content/gdrive/My Drive/Model-Architectures/architecture_dn201.json'\n",
        "}\n",
        "\n",
        "PATHS_WEIGHTS = {\n",
        "    'xception' : '/content/gdrive/My Drive/Model-Weights/xception.h5',\n",
        "    'irnv2'    : '/content/gdrive/My Drive/Model-Weights/irnv2.h5',\n",
        "    'dn121'    : '/content/gdrive/My Drive/Model-Weights/dn121.h5',\n",
        "    'dn169'    : '/content/gdrive/My Drive/Model-Weights/dn169.h5',\n",
        "    'dn201'    : '/content/gdrive/My Drive/Model-Weights/dn201.h5'\n",
        "}\n",
        "\n",
        "PREPROCESS_INPUTS = {\n",
        "    'xception' : pi_xception,\n",
        "    'irnv2'    : pi_irnv2,\n",
        "    'dn121'    : None,\n",
        "    'dn169'    : None,\n",
        "    'dn201'    : None\n",
        "}\n",
        "\n",
        "MODELS = {\n",
        "    'xception' : None,\n",
        "    'irnv2'    : None,\n",
        "    'dn121'    : None,\n",
        "    'dn169'    : None,\n",
        "    'dn201'    : None\n",
        "}"
      ],
      "execution_count": 34,
      "outputs": []
    },
    {
      "cell_type": "code",
      "metadata": {
        "id": "8HYsjr-8CWdT",
        "colab_type": "code",
        "colab": {}
      },
      "source": [
        " def build_models():\n",
        "  for model_name in MODEL_NAMES: \n",
        "      json_file = open(PATHS_ARCH[model_name], 'r')\n",
        "      model_architecture = json_file.read()\n",
        "      json_file.close()\n",
        "      model = model_from_json(model_architecture)\n",
        "      model.load_weights(PATHS_WEIGHTS[model_name])\n",
        "      MODELS[model_name] = model"
      ],
      "execution_count": 35,
      "outputs": []
    },
    {
      "cell_type": "code",
      "metadata": {
        "id": "hXD85hJdvZxs",
        "colab_type": "code",
        "colab": {}
      },
      "source": [
        "def preprocess(raw_img, preproc_func = None):\n",
        "  img = cv2.resize(raw_img, (224, 224))\n",
        "  if preproc_func != None:\n",
        "    img = preproc_func(img)\n",
        "  else: \n",
        "    img = img/255.\n",
        "  img = img.reshape(1, 224, 224, 3)\n",
        "  return img"
      ],
      "execution_count": 36,
      "outputs": []
    },
    {
      "cell_type": "code",
      "metadata": {
        "id": "2VJdPm5dtZD8",
        "colab_type": "code",
        "colab": {}
      },
      "source": [
        "def get_probabilities(raw_img):\n",
        "  predictions = {\n",
        "      'xception' : None,\n",
        "      'irnv2'    : None,\n",
        "      'dn121'    : None,\n",
        "      'dn169'    : None,\n",
        "      'dn201'    : None\n",
        "  }\n",
        "  for model_name in MODEL_NAMES: \n",
        "    img = preprocess(raw_img, preproc_func = PREPROCESS_INPUTS[model_name])\n",
        "    model = MODELS[model_name]\n",
        "    predictions[model_name] = model.predict(img)[0]\n",
        "  return predictions"
      ],
      "execution_count": 37,
      "outputs": []
    },
    {
      "cell_type": "code",
      "metadata": {
        "id": "hjUHVDqQCsiy",
        "colab_type": "code",
        "colab": {}
      },
      "source": [
        "build_models()"
      ],
      "execution_count": 38,
      "outputs": []
    },
    {
      "cell_type": "code",
      "metadata": {
        "id": "pYQ4EO1vmeyh",
        "colab_type": "code",
        "colab": {
          "base_uri": "https://localhost:8080/",
          "height": 34
        },
        "outputId": "2c3fd9ae-2ccc-43c7-beb9-7f7901f71e11"
      },
      "source": [
        "IMG_PATH = '/content/img.png'\n",
        "raw_img = cv2.imread(IMG_PATH)\n",
        "\n",
        "probabilities = get_probabilities(raw_img)\n",
        "\n",
        "for model_name in ['dn169', 'dn201']:\n",
        "  temp = np.empty(probabilities[model_name].shape)\n",
        "  temp[0] = probabilities[model_name][0]\n",
        "  temp[1] = probabilities[model_name][2]\n",
        "  temp[2] = probabilities[model_name][3]\n",
        "  temp[3] = probabilities[model_name][1]\n",
        "  temp[4] = probabilities[model_name][4]\n",
        "  probabilities[model_name] = temp\n",
        "\n",
        "sum = 0\n",
        "for model_name in MODEL_NAMES:\n",
        "  sum += probabilities[model_name] * NORM_WEIGHTS[model_name]\n",
        "ensembled_predictions = sum/len(MODEL_NAMES)\n",
        "y_hat = ensembled_predictions > THRESHOLDS\n",
        "print(y_hat)"
      ],
      "execution_count": 56,
      "outputs": [
        {
          "output_type": "stream",
          "text": [
            "[False False False False False]\n"
          ],
          "name": "stdout"
        }
      ]
    }
  ]
}