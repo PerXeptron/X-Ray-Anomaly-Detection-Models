{
  "nbformat": 4,
  "nbformat_minor": 0,
  "metadata": {
    "colab": {
      "name": "keras_xception.ipynb",
      "provenance": [],
      "collapsed_sections": []
    },
    "kernelspec": {
      "name": "python3",
      "display_name": "Python 3"
    },
    "accelerator": "GPU"
  },
  "cells": [
    {
      "cell_type": "code",
      "metadata": {
        "id": "zruJhT8gWxPi",
        "colab_type": "code",
        "outputId": "9a820b4e-ca58-4096-9916-f6898f192521",
        "colab": {
          "base_uri": "https://localhost:8080/",
          "height": 124
        }
      },
      "source": [
        "from google.colab import drive\n",
        "drive.mount('/content/gdrive')"
      ],
      "execution_count": 1,
      "outputs": [
        {
          "output_type": "stream",
          "text": [
            "Go to this URL in a browser: https://accounts.google.com/o/oauth2/auth?client_id=947318989803-6bn6qk8qdgf4n4g3pfee6491hc0brc4i.apps.googleusercontent.com&redirect_uri=urn%3aietf%3awg%3aoauth%3a2.0%3aoob&response_type=code&scope=email%20https%3a%2f%2fwww.googleapis.com%2fauth%2fdocs.test%20https%3a%2f%2fwww.googleapis.com%2fauth%2fdrive%20https%3a%2f%2fwww.googleapis.com%2fauth%2fdrive.photos.readonly%20https%3a%2f%2fwww.googleapis.com%2fauth%2fpeopleapi.readonly\n",
            "\n",
            "Enter your authorization code:\n",
            "··········\n",
            "Mounted at /content/gdrive\n"
          ],
          "name": "stdout"
        }
      ]
    },
    {
      "cell_type": "code",
      "metadata": {
        "id": "mehoxo4bXd9q",
        "colab_type": "code",
        "colab": {}
      },
      "source": [
        "!unzip -uq '/content/gdrive/My Drive/chexpertdataset.zip'"
      ],
      "execution_count": 0,
      "outputs": []
    },
    {
      "cell_type": "code",
      "metadata": {
        "id": "8dNr5OxL_P0W",
        "colab_type": "code",
        "colab": {}
      },
      "source": [
        "import cv2\n",
        "import numpy as np\n",
        "import pandas as pd\n",
        "%matplotlib inline\n",
        "from matplotlib import pyplot as plt"
      ],
      "execution_count": 0,
      "outputs": []
    },
    {
      "cell_type": "code",
      "metadata": {
        "id": "kL5FP66LCekh",
        "colab_type": "code",
        "colab": {}
      },
      "source": [
        "df = pd.read_csv('CheXpert-v1.0-small/train.csv') # Earlier, df_train\n",
        "df_val = pd.read_csv('CheXpert-v1.0-small/valid.csv')\n",
        "# We shall make the train_test split later using ImageDataGenerator's parameter\n",
        "# df = pd.concat([df_train, df_val])\n",
        "# df = df.reset_index(drop=True)"
      ],
      "execution_count": 0,
      "outputs": []
    },
    {
      "cell_type": "code",
      "metadata": {
        "id": "j7__0Zm1HAV1",
        "colab_type": "code",
        "colab": {}
      },
      "source": [
        "def clean_df(df):\n",
        "  # Focusing only on 5 classes:\n",
        "  df = df[[\n",
        "    'Path', \n",
        "    'Atelectasis',\n",
        "    'Cardiomegaly',\n",
        "    'Consolidation',\n",
        "    'Edema',\n",
        "    'Pleural Effusion'\n",
        "  ]]\n",
        "\n",
        "  # Handling the NaN values\n",
        "  df = df.fillna(0)\n",
        "\n",
        "  # Handling the uncertain values\n",
        "  ## Different policy for each feature:\n",
        "  u_ones = ['Atelectasis', 'Edema']\n",
        "  u_zeros = ['Cardiomegaly', 'Consolidation', 'Pleural Effusion']\n",
        "  df[u_ones]  = df[u_ones].replace(-1, 1)\n",
        "  df[u_zeros] = df[u_zeros].replace(-1, 0)\n",
        "\n",
        "  return df"
      ],
      "execution_count": 0,
      "outputs": []
    },
    {
      "cell_type": "code",
      "metadata": {
        "id": "meSekdHZtPA5",
        "colab_type": "code",
        "colab": {}
      },
      "source": [
        "df = clean_df(df)\n",
        "df_val = clean_df(df_val)"
      ],
      "execution_count": 0,
      "outputs": []
    },
    {
      "cell_type": "markdown",
      "metadata": {
        "id": "rewlhwdGd1Uv",
        "colab_type": "text"
      },
      "source": [
        "# The Data Generators"
      ]
    },
    {
      "cell_type": "code",
      "metadata": {
        "id": "LsWuowYLjCwb",
        "colab_type": "code",
        "colab": {}
      },
      "source": [
        "# Defining constants:\n",
        "BATCH_SIZE = 32\n",
        "IMAGE_SIZE = 224\n",
        "CLASSES = [ \n",
        "  'Atelectasis',\n",
        "  'Cardiomegaly',\n",
        "  'Consolidation',\n",
        "  'Edema',\n",
        "  'Pleural Effusion'\n",
        "]"
      ],
      "execution_count": 0,
      "outputs": []
    },
    {
      "cell_type": "markdown",
      "metadata": {
        "id": "PLeU2fkvIAL3",
        "colab_type": "text"
      },
      "source": [
        "Generating a sample for datagen fitting for featurewise normalization and featurewise centering."
      ]
    },
    {
      "cell_type": "code",
      "metadata": {
        "id": "FbZbXM3C7xHN",
        "colab_type": "code",
        "colab": {}
      },
      "source": [
        "# Constants\n",
        "FRAC = 0.003 # Fraction of total data to be taken as sample\n",
        "SHAPE = (320, 390, 3) # Common shape for featurewise centering & normalization\n",
        "\n",
        "sample_paths = df['Path'].sample(frac=FRAC).to_numpy()\n",
        "X_temp = np.array([np.array(cv2.imread(path, 1), dtype=float) for path in sample_paths])\n",
        "X_sample = np.array([x for x in X_temp if x.shape == SHAPE])"
      ],
      "execution_count": 0,
      "outputs": []
    },
    {
      "cell_type": "code",
      "metadata": {
        "id": "PwfAcCeHZJwN",
        "colab_type": "code",
        "colab": {
          "base_uri": "https://localhost:8080/",
          "height": 34
        },
        "outputId": "b52f174e-2e0b-45b8-f3da-7113f7395892"
      },
      "source": [
        "from keras.preprocessing.image import ImageDataGenerator as IDG\n",
        "\n",
        "datagen = IDG(\n",
        "    rescale=1./255, \n",
        "    featurewise_center=True,\n",
        "    featurewise_std_normalization=True,\n",
        "    rotation_range=0.1,\n",
        "    zoom_range = 0.1,\n",
        "    width_shift_range=0.2,\n",
        "    height_shift_range=0.2,\n",
        "    horizontal_flip=True,\n",
        "    validation_split = 0.1,\n",
        "    fill_mode = 'nearest'\n",
        ")\n",
        "\n",
        "datagen.fit(X_sample)\n",
        "\n",
        "test_datagen = IDG(rescale=1./255)"
      ],
      "execution_count": 9,
      "outputs": [
        {
          "output_type": "stream",
          "text": [
            "Using TensorFlow backend.\n"
          ],
          "name": "stderr"
        }
      ]
    },
    {
      "cell_type": "code",
      "metadata": {
        "id": "8HRgCZYRlq54",
        "colab_type": "code",
        "colab": {}
      },
      "source": [
        "def get_gen():\n",
        "  train_gen = datagen.flow_from_dataframe(\n",
        "      dataframe = df,\n",
        "      #directory = '/content/CheXpert-v1.0-small/train',\n",
        "      x_col = 'Path',\n",
        "      y_col = CLASSES, #'classes',\n",
        "      class_mode='raw',\n",
        "      #validate_filenames = False,\n",
        "      seed=42,\n",
        "      shuffle=True,\n",
        "      target_size=(IMAGE_SIZE, IMAGE_SIZE), \n",
        "      batch_size=BATCH_SIZE, \n",
        "      subset = 'training'\n",
        "  )\n",
        "\n",
        "  val_gen = datagen.flow_from_dataframe(\n",
        "      dataframe = df,\n",
        "      #directory = '/content/CheXpert-v1.0-small/train',\n",
        "      x_col = 'Path',\n",
        "      y_col = CLASSES, #'classes',\n",
        "      class_mode='raw',\n",
        "      #validate_filenames = False,\n",
        "      seed=42,\n",
        "      shuffle=True,\n",
        "      target_size=(IMAGE_SIZE, IMAGE_SIZE), \n",
        "      batch_size=BATCH_SIZE, \n",
        "      #classes = columns,\n",
        "      subset = 'validation'\n",
        "  )\n",
        "\n",
        "  return train_gen, val_gen"
      ],
      "execution_count": 0,
      "outputs": []
    },
    {
      "cell_type": "markdown",
      "metadata": {
        "id": "Fzon1sedRD-l",
        "colab_type": "text"
      },
      "source": [
        "# Cyclic LR\n",
        "\n",
        "It seems that our code gets stuck on a loss plateau. Let's try to implement the cyclic LR callback. \n",
        "\n",
        "The below callback implements a cyclical learning rate policy (CLR).\n",
        "The method cycles the learning rate between two boundaries with\n",
        "some constant frequency, as detailed in this paper (https://arxiv.org/abs/1506.01186).\n",
        "The amplitude of the cycle can be scaled on a per-iteration or per-cycle basis.This class has three built-in policies, as put forth in the paper.\n",
        "    \"triangular\":\n",
        "        A basic triangular cycle w/ no amplitude scaling.\n",
        "    \"triangular2\":\n",
        "        A basic triangular cycle that scales initial amplitude by half each cycle.\n",
        "    \"exp_range\":\n",
        "        A cycle that scales initial amplitude by gamma**(cycle iterations) at each \n",
        "        cycle iteration.\n",
        "    For more detail, please see paper.\n",
        "    \n",
        "    # Example\n",
        "        ```python\n",
        "            clr = CyclicLR(base_lr=0.001, max_lr=0.006,\n",
        "                                step_size=2000., mode='triangular')\n",
        "            model.fit(X_train, Y_train, callbacks=[clr])\n",
        "        ```\n",
        "    \n",
        "    Class also supports custom scaling functions:\n",
        "        ```python\n",
        "            clr_fn = lambda x: 0.5*(1+np.sin(x*np.pi/2.))\n",
        "            clr = CyclicLR(base_lr=0.001, max_lr=0.006,\n",
        "                                step_size=2000., scale_fn=clr_fn,\n",
        "                                scale_mode='cycle')\n",
        "            model.fit(X_train, Y_train, callbacks=[clr])\n",
        "        ``` \n",
        "        base_lr: initial learning rate which is the\n",
        "            lower boundary in the cycle.\n",
        "        max_lr: upper boundary in the cycle. Functionally,\n",
        "            it defines the cycle amplitude (max_lr - base_lr).\n",
        "            The lr at any cycle is the sum of base_lr\n",
        "            and some scaling of the amplitude; therefore \n",
        "            max_lr may not actually be reached depending on\n",
        "            scaling function.\n",
        "        step_size: number of training iterations per\n",
        "            half cycle. Authors suggest setting step_size\n",
        "            2-8 x training iterations in epoch.\n",
        "        mode: one of {triangular, triangular2, exp_range}.\n",
        "            Default 'triangular'.\n",
        "            Values correspond to policies detailed above.\n",
        "            If scale_fn is not None, this argument is ignored.\n",
        "        gamma: constant in 'exp_range' scaling function:\n",
        "            gamma**(cycle iterations)\n",
        "        scale_fn: Custom scaling policy defined by a single\n",
        "            argument lambda function, where \n",
        "            0 <= scale_fn(x) <= 1 for all x >= 0.\n",
        "            mode paramater is ignored \n",
        "        scale_mode: {'cycle', 'iterations'}.\n",
        "            Defines whether scale_fn is evaluated on \n",
        "            cycle number or cycle iterations (training\n",
        "            iterations since start of cycle). Default is 'cycle'."
      ]
    },
    {
      "cell_type": "code",
      "metadata": {
        "id": "SNygsqKPRCm1",
        "colab_type": "code",
        "colab": {}
      },
      "source": [
        "from keras.callbacks import *\n",
        "\n",
        "class CyclicLR(Callback):\n",
        "    \n",
        "    def __init__(self, base_lr=0.001, max_lr=0.01, step_size=2000., mode='triangular',\n",
        "                 gamma=1., scale_fn=None, scale_mode='cycle'):\n",
        "        super(CyclicLR, self).__init__()\n",
        "\n",
        "        self.base_lr = base_lr\n",
        "        self.max_lr = max_lr\n",
        "        self.step_size = step_size\n",
        "        self.mode = mode\n",
        "        self.gamma = gamma\n",
        "        if scale_fn == None:\n",
        "            if self.mode == 'triangular':\n",
        "                self.scale_fn = lambda x: 1.\n",
        "                self.scale_mode = 'cycle'\n",
        "            elif self.mode == 'triangular2':\n",
        "                self.scale_fn = lambda x: 1/(2.**(x-1))\n",
        "                self.scale_mode = 'cycle'\n",
        "            elif self.mode == 'exp_range':\n",
        "                self.scale_fn = lambda x: gamma**(x)\n",
        "                self.scale_mode = 'iterations'\n",
        "        else:\n",
        "            self.scale_fn = scale_fn\n",
        "            self.scale_mode = scale_mode\n",
        "        self.clr_iterations = 0.\n",
        "        self.trn_iterations = 0.\n",
        "        self.history = {}\n",
        "\n",
        "        self._reset()\n",
        "\n",
        "    def _reset(self, new_base_lr=None, new_max_lr=None,\n",
        "               new_step_size=None):\n",
        "        \"\"\"Resets cycle iterations.\n",
        "        Optional boundary/step size adjustment.\n",
        "        \"\"\"\n",
        "        if new_base_lr != None:\n",
        "            self.base_lr = new_base_lr\n",
        "        if new_max_lr != None:\n",
        "            self.max_lr = new_max_lr\n",
        "        if new_step_size != None:\n",
        "            self.step_size = new_step_size\n",
        "        self.clr_iterations = 0.\n",
        "        \n",
        "    def clr(self):\n",
        "        cycle = np.floor(1+self.clr_iterations/(2*self.step_size))\n",
        "        x = np.abs(self.clr_iterations/self.step_size - 2*cycle + 1)\n",
        "        if self.scale_mode == 'cycle':\n",
        "            return self.base_lr + (self.max_lr-self.base_lr)*np.maximum(0, (1-x))*self.scale_fn(cycle)\n",
        "        else:\n",
        "            return self.base_lr + (self.max_lr-self.base_lr)*np.maximum(0, (1-x))*self.scale_fn(self.clr_iterations)\n",
        "        \n",
        "    def on_train_begin(self, logs={}):\n",
        "        logs = logs or {}\n",
        "\n",
        "        if self.clr_iterations == 0:\n",
        "            K.set_value(self.model.optimizer.lr, self.base_lr)\n",
        "        else:\n",
        "            K.set_value(self.model.optimizer.lr, self.clr())        \n",
        "            \n",
        "    def on_batch_end(self, epoch, logs=None):\n",
        "        \n",
        "        logs = logs or {}\n",
        "        self.trn_iterations += 1\n",
        "        self.clr_iterations += 1\n",
        "\n",
        "        self.history.setdefault('lr', []).append(K.get_value(self.model.optimizer.lr))\n",
        "        self.history.setdefault('iterations', []).append(self.trn_iterations)\n",
        "\n",
        "        for k, v in logs.items():\n",
        "            self.history.setdefault(k, []).append(v)\n",
        "        \n",
        "        K.set_value(self.model.optimizer.lr, self.clr())"
      ],
      "execution_count": 0,
      "outputs": []
    },
    {
      "cell_type": "markdown",
      "metadata": {
        "colab_type": "text",
        "id": "zPMTVNLQnVVZ"
      },
      "source": [
        "# The Model"
      ]
    },
    {
      "cell_type": "code",
      "metadata": {
        "colab_type": "code",
        "id": "ZStKfeQanVVb",
        "colab": {}
      },
      "source": [
        "# Building on top of the base:\n",
        "from keras.applications import Xception\n",
        "from keras.models import Sequential\n",
        "from keras.layers import BatchNormalization, Conv2D, GlobalAveragePooling2D\n",
        "from keras.layers.core import Flatten, Dense, Dropout\n",
        "\n",
        "def build_model():\n",
        "  # The convolutional base:\n",
        "  model_base = Xception(\n",
        "      weights='imagenet', include_top=False, input_shape=(IMAGE_SIZE, IMAGE_SIZE, 3)\n",
        "      )\n",
        "  #model_base.trainable = False\n",
        "  # Unfreezing all the layers:\n",
        "  for layer in model_base.layers:\n",
        "      layer.trainable = True\n",
        "\n",
        "  model = Sequential()\n",
        "  model.add(model_base) # Adding the base as a layer\n",
        "  model.add(GlobalAveragePooling2D())\n",
        "  model.add(Dense(1024, activation='relu'))\n",
        "  model.add(BatchNormalization())\n",
        "  model.add(Dropout(0.3))\n",
        "  #model.add(Flatten())\n",
        "  #model.add(Dense(1024, activation='relu'))\n",
        "  #model.add(Dropout(0.25))\n",
        "  model.add(Dense(5, activation='sigmoid'))\n",
        "  \n",
        "  return model"
      ],
      "execution_count": 0,
      "outputs": []
    },
    {
      "cell_type": "markdown",
      "metadata": {
        "id": "mWokRCvVkZXx",
        "colab_type": "text"
      },
      "source": [
        "# Training and Validating"
      ]
    },
    {
      "cell_type": "code",
      "metadata": {
        "id": "wwJylaZwyDMp",
        "colab_type": "code",
        "colab": {
          "base_uri": "https://localhost:8080/",
          "height": 72
        },
        "outputId": "3066edb6-f07b-47b6-d050-df32738930f7"
      },
      "source": [
        "from keras.metrics import AUC, categorical_accuracy as catacc\n",
        "from keras.callbacks import EarlyStopping, ModelCheckpoint\n",
        "from keras.optimizers import Adam\n",
        "\n",
        "auc = AUC()\n",
        "adam = Adam(learning_rate=0.00005) # 0.05 of default\n",
        "\n",
        "es = EarlyStopping(monitor='val_categorical_accuracy', mode='max', verbose=1, patience=2)\n",
        "mc = ModelCheckpoint(\n",
        "    filepath='xception-keras-2.h5', verbose=1 #, save_best_only=True\n",
        ")\n",
        "\n",
        "clr = CyclicLR(base_lr=0.00005, max_lr=0.0001)\n",
        "cb_list = [es, mc] # Will add clr later, as we'll have to tune it's hyperparameters\n",
        "\n",
        "model = build_model()\n",
        "model.compile(\n",
        "    loss='binary_crossentropy',\n",
        "    optimizer=adam,\n",
        "    metrics=[auc, catacc] # Earlier, 'acc' \n",
        ")"
      ],
      "execution_count": 13,
      "outputs": [
        {
          "output_type": "stream",
          "text": [
            "Downloading data from https://github.com/fchollet/deep-learning-models/releases/download/v0.4/xception_weights_tf_dim_ordering_tf_kernels_notop.h5\n",
            "83689472/83683744 [==============================] - 7s 0us/step\n"
          ],
          "name": "stdout"
        }
      ]
    },
    {
      "cell_type": "code",
      "metadata": {
        "id": "3_LRbchQjW0a",
        "colab_type": "code",
        "colab": {
          "base_uri": "https://localhost:8080/",
          "height": 52
        },
        "outputId": "d5bbc6f0-01f6-4674-ab63-aa7b8fce9d8d"
      },
      "source": [
        "train_gen, val_gen = get_gen()"
      ],
      "execution_count": 14,
      "outputs": [
        {
          "output_type": "stream",
          "text": [
            "Found 201073 validated image filenames.\n",
            "Found 22341 validated image filenames.\n"
          ],
          "name": "stdout"
        }
      ]
    },
    {
      "cell_type": "code",
      "metadata": {
        "id": "oGfWKWg65axI",
        "colab_type": "code",
        "colab": {}
      },
      "source": [
        "# Training constants:\n",
        "TRAIN_STEPS = train_gen.n//BATCH_SIZE\n",
        "VAL_STEPS   = val_gen.n//BATCH_SIZE\n",
        "N_EPOCHS = 5"
      ],
      "execution_count": 0,
      "outputs": []
    },
    {
      "cell_type": "code",
      "metadata": {
        "id": "QHPtOc4gzJoz",
        "colab_type": "code",
        "colab": {
          "base_uri": "https://localhost:8080/",
          "height": 331
        },
        "outputId": "d08e6675-c122-452a-8754-ef2e75e61496"
      },
      "source": [
        "history = model.fit_generator(\n",
        "    train_gen,\n",
        "    steps_per_epoch=TRAIN_STEPS,\n",
        "    epochs=N_EPOCHS,\n",
        "    validation_data=val_gen,\n",
        "    validation_steps=VAL_STEPS,\n",
        "    callbacks = cb_list\n",
        ")"
      ],
      "execution_count": 16,
      "outputs": [
        {
          "output_type": "stream",
          "text": [
            "Epoch 1/5\n",
            "6283/6283 [==============================] - 4766s 759ms/step - loss: 0.4370 - auc_1: 0.8012 - categorical_accuracy: 0.3898 - val_loss: 0.3960 - val_auc_1: 0.8477 - val_categorical_accuracy: 0.4602\n",
            "\n",
            "Epoch 00001: saving model to xception-keras-2.h5\n",
            "Epoch 2/5\n",
            "6283/6283 [==============================] - 4668s 743ms/step - loss: 0.3920 - auc_1: 0.8459 - categorical_accuracy: 0.4301 - val_loss: 0.2684 - val_auc_1: 0.8547 - val_categorical_accuracy: 0.4799\n",
            "\n",
            "Epoch 00002: saving model to xception-keras-2.h5\n",
            "Epoch 3/5\n",
            "6283/6283 [==============================] - 4773s 760ms/step - loss: 0.3838 - auc_1: 0.8535 - categorical_accuracy: 0.4367 - val_loss: 0.2670 - val_auc_1: 0.8574 - val_categorical_accuracy: 0.4199\n",
            "\n",
            "Epoch 00003: saving model to xception-keras-2.h5\n",
            "Epoch 4/5\n",
            "6283/6283 [==============================] - 4785s 762ms/step - loss: 0.3775 - auc_1: 0.8592 - categorical_accuracy: 0.4418 - val_loss: 0.3604 - val_auc_1: 0.8588 - val_categorical_accuracy: 0.4496\n",
            "\n",
            "Epoch 00004: saving model to xception-keras-2.h5\n",
            "Epoch 00004: early stopping\n"
          ],
          "name": "stdout"
        }
      ]
    },
    {
      "cell_type": "code",
      "metadata": {
        "id": "fYuegKKSh75h",
        "colab_type": "code",
        "colab": {
          "base_uri": "https://localhost:8080/",
          "height": 545
        },
        "outputId": "95b19bbf-4e89-4544-9560-77b8876632b9"
      },
      "source": [
        "cat_acc = history.history['categorical_accuracy']\n",
        "val_cat_acc = history.history['val_categorical_accuracy']\n",
        "loss = history.history['loss']\n",
        "val_loss = history.history['val_loss']\n",
        "epochs = range(1, len(cat_acc) + 1)\n",
        "\n",
        "plt.plot(epochs, cat_acc, 'b', label='Training accuracy')\n",
        "plt.plot(epochs, val_cat_acc, 'r', label='Validation accuracy')\n",
        "plt.title('Training and validation accuracy')\n",
        "plt.legend()\n",
        "plt.figure()\n",
        "\n",
        "plt.plot(epochs, loss, 'b', label='Training loss')\n",
        "plt.plot(epochs, val_loss, 'r', label='Validation loss')\n",
        "plt.title('Training and validation loss')\n",
        "plt.legend()\n",
        "plt.show()"
      ],
      "execution_count": 20,
      "outputs": [
        {
          "output_type": "display_data",
          "data": {
            "image/png": "[encoded data removed]",
            "text/plain": [
              "<Figure size 432x288 with 1 Axes>"
            ]
          },
          "metadata": {
            "tags": [],
            "needs_background": "light"
          }
        },
        {
          "output_type": "display_data",
          "data": {
            "image/png": "[encoded data removed]",
            "text/plain": [
              "<Figure size 432x288 with 1 Axes>"
            ]
          },
          "metadata": {
            "tags": [],
            "needs_background": "light"
          }
        }
      ]
    },
    {
      "cell_type": "markdown",
      "metadata": {
        "id": "Di1XG3jgetI0",
        "colab_type": "text"
      },
      "source": [
        "## Test Generator"
      ]
    },
    {
      "cell_type": "code",
      "metadata": {
        "id": "xJogyIcFesi9",
        "colab_type": "code",
        "colab": {
          "base_uri": "https://localhost:8080/",
          "height": 34
        },
        "outputId": "d260bdfd-e847-4735-9340-8e386cf8f1bf"
      },
      "source": [
        "test_gen = test_datagen.flow_from_dataframe(\n",
        "    dataframe = df_val,\n",
        "    #directory = '/content/CheXpert-v1.0-small/valid',\n",
        "    x_col = 'Path',\n",
        "    y_col = CLASSES, #'classes',\n",
        "    class_mode='raw',\n",
        "    #validate_filenames = False,\n",
        "    target_size=(IMAGE_SIZE, IMAGE_SIZE), \n",
        "    batch_size=1, \n",
        "    shuffle = False,\n",
        "    #classes = columns,\n",
        ")  "
      ],
      "execution_count": 21,
      "outputs": [
        {
          "output_type": "stream",
          "text": [
            "Found 234 validated image filenames.\n"
          ],
          "name": "stdout"
        }
      ]
    },
    {
      "cell_type": "markdown",
      "metadata": {
        "id": "ZPKug7Qclasv",
        "colab_type": "text"
      },
      "source": [
        "# ROC-AUC Curves"
      ]
    },
    {
      "cell_type": "code",
      "metadata": {
        "id": "uK_xUDlHfj_C",
        "colab_type": "code",
        "colab": {}
      },
      "source": [
        "#from keras.models import load_model\n",
        "#mod = load_model('xception-keras-2.h5')"
      ],
      "execution_count": 0,
      "outputs": []
    },
    {
      "cell_type": "code",
      "metadata": {
        "id": "3qw043EteHyj",
        "colab_type": "code",
        "colab": {}
      },
      "source": [
        "y_labels = df_val[CLASSES].to_numpy()"
      ],
      "execution_count": 0,
      "outputs": []
    },
    {
      "cell_type": "code",
      "metadata": {
        "id": "xxgEpgPVmGU0",
        "colab_type": "code",
        "colab": {}
      },
      "source": [
        "y_pred = model.predict_generator(test_gen, steps=test_gen.n) \n",
        "# As batch size for this is kept 1, steps = len(test_gen)"
      ],
      "execution_count": 0,
      "outputs": []
    },
    {
      "cell_type": "code",
      "metadata": {
        "id": "QYtxXT6klaRR",
        "colab_type": "code",
        "colab": {
          "base_uri": "https://localhost:8080/",
          "height": 295
        },
        "outputId": "d2478cb4-2e77-429d-e9c6-d50f2ebfbaa4"
      },
      "source": [
        "from sklearn.metrics import roc_curve\n",
        "from sklearn.metrics import auc\n",
        "\n",
        "plt.figure(1)\n",
        "plt.plot([0, 1], [0, 1], 'k--')\n",
        "\n",
        "for i in range(len(CLASSES)):\n",
        "   fpr, tpr, thresholds = roc_curve(y_labels[:, i], y_pred[:, i])\n",
        "   individual_auc = auc(fpr, tpr)\n",
        "   plt.plot(fpr, tpr, label= (CLASSES[i] + '(area = {})'.format(individual_auc)))\n",
        "\n",
        "    \n",
        "plt.xlabel('False positive rate')\n",
        "plt.ylabel('True positive rate')\n",
        "plt.title('ROC curve')\n",
        "plt.legend(loc='best')\n",
        "plt.show()"
      ],
      "execution_count": 24,
      "outputs": [
        {
          "output_type": "display_data",
          "data": {
            "image/png": "[encoded data removed]",
            "text/plain": [
              "<Figure size 432x288 with 1 Axes>"
            ]
          },
          "metadata": {
            "tags": [],
            "needs_background": "light"
          }
        }
      ]
    },
    {
      "cell_type": "code",
      "metadata": {
        "id": "JVLiw6cChZBH",
        "colab_type": "code",
        "colab": {}
      },
      "source": [
        "results = model.evaluate_generator(test_gen)"
      ],
      "execution_count": 0,
      "outputs": []
    },
    {
      "cell_type": "code",
      "metadata": {
        "id": "54qJGXJ-hfq8",
        "colab_type": "code",
        "colab": {
          "base_uri": "https://localhost:8080/",
          "height": 34
        },
        "outputId": "3671e611-2c56-4414-bcf2-63096dbf8c03"
      },
      "source": [
        "results"
      ],
      "execution_count": 26,
      "outputs": [
        {
          "output_type": "execute_result",
          "data": {
            "text/plain": [
              "[0.3067563772201538, 0.8476636409759521, 0.4316239356994629]"
            ]
          },
          "metadata": {
            "tags": []
          },
          "execution_count": 26
        }
      ]
    },
    {
      "cell_type": "markdown",
      "metadata": {
        "id": "gNlSawxuGJPr",
        "colab_type": "text"
      },
      "source": [
        "#### Stuff to try out:\n",
        "\n",
        "- Optimize the initial LR\n",
        "- Reduce LR on Plateau\n",
        "- Cyclic learning rates"
      ]
    },
    {
      "cell_type": "markdown",
      "metadata": {
        "id": "mertyO7Raf9K",
        "colab_type": "text"
      },
      "source": [
        "#### Classifier Architectures:\n",
        "\n",
        "- A1: AUC: (76, 71) | cat_acc: (32, 30)\n",
        "```\n",
        "model = Sequential()\n",
        "  model.add(model_base) # Adding the base as a layer\n",
        "  model.add(Conv2D(500, kernel_size = (3,3), activation='relu', input_shape = (IMAGE_SIZE,IMAGE_SIZE,3)))\n",
        "  model.add(BatchNormalization())\n",
        "  model.add(Dropout(0.2))\n",
        "  model.add(GlobalAveragePooling2D())\n",
        "  model.add(Dense(1024, activation='relu'))\n",
        "  model.add(BatchNormalization())\n",
        "  model.add(Dropout(0.2))\n",
        "  model.add(Dense(5, activation='sigmoid'))\n",
        "  ```\n",
        "    \n",
        "- A2: AUC: (76, 69) | cat_acc: (31, 42)\n",
        "```\n",
        "model.add(GlobalAveragePooling2D())\n",
        "model.add(Dense(5, activation='sigmoid'))\n",
        "```\n",
        "  \n",
        "- A3: AUC: (87, 86) | cat_acc: (46, 45) | lr=$0.00005$\n",
        "```\n",
        "model.add(GlobalAveragePooling2D())\n",
        "model.add(Dense(1024, activation='relu'))\n",
        "model.add(BatchNormalization())\n",
        "model.add(Dropout(0.3))\n",
        "model.add(Dense(5, activation='sigmoid'))\n",
        "```"
      ]
    },
    {
      "cell_type": "code",
      "metadata": {
        "id": "HgqqwQ9N9a6Z",
        "colab_type": "code",
        "colab": {}
      },
      "source": [
        ""
      ],
      "execution_count": 0,
      "outputs": []
    }
  ]
}