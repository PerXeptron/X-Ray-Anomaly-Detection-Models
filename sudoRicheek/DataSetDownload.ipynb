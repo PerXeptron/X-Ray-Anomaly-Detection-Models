{
  "cells": [
    {
      "cell_type": "markdown",
      "metadata": {
        "id": "Y2e-i4l6UNxw",
        "colab_type": "text"
      },
      "source": [
        "## For Downloading the ZIP Dataset from a given URL and Copying it into your Google Drive(One-Time Stuff)"
      ]
    },
    {
      "cell_type": "code",
      "metadata": {
        "id": "m-GTnp6gTmfH",
        "colab_type": "code",
        "colab": {}
      },
      "source": [
        "import requests  \n",
        "file_url = \"Your URL Here\"\n",
        "    \n",
        "r = requests.get(file_url, stream = True)  \n",
        "  \n",
        "with open(\"/content/dataset.zip\", \"wb\") as file:  \n",
        "    for block in r.iter_content(chunk_size = 1024): \n",
        "         if block:  \n",
        "             file.write(block)"
      ],
      "execution_count": 0,
      "outputs": []
    },
    {
      "cell_type": "code",
      "metadata": {
        "id": "IFEUprZ5TsFb",
        "colab_type": "code",
        "colab": {}
      },
      "source": [
        "from google.colab import drive\n",
        "drive.mount('/content/gdrive') "
      ],
      "execution_count": 0,
      "outputs": []
    },
    {
      "cell_type": "code",
      "metadata": {
        "id": "jJb5g_khTuMf",
        "colab_type": "code",
        "colab": {}
      },
      "source": [
        "import os\n",
        "import shutil\n",
        "\n",
        "path = \"/content/\"\n",
        "src = os.path.join(path, \"dataset.zip\")\n",
        "dst = os.path.join(path, \"gdrive/My Drive/chexpertdataset.zip\")\n",
        "\n",
        "shutil.copyfile(src, dst)"
      ],
      "execution_count": 0,
      "outputs": []
    },
    {
      "cell_type": "markdown",
      "metadata": {
        "id": "0ZGuM7MHUfl1",
        "colab_type": "text"
      },
      "source": [
        "And finally save the notebook to reflect the changes in your drive."
      ]
    },
    {
      "cell_type": "markdown",
      "metadata": {
        "id": "1XrmhjRTT8_4",
        "colab_type": "text"
      },
      "source": [
        "## For Downloading from Drive(This is wayy faster !)"
      ]
    },
    {
      "cell_type": "code",
      "metadata": {
        "id": "yei5w7aqUGf-",
        "colab_type": "code",
        "colab": {}
      },
      "source": [
        "from google.colab import drive\n",
        "drive.mount('/content/gdrive') "
      ],
      "execution_count": 0,
      "outputs": []
    },
    {
      "cell_type": "code",
      "metadata": {
        "id": "_H7Ra-bdTy8u",
        "colab_type": "code",
        "colab": {}
      },
      "source": [
        "!cp \"/content/gdrive/My Drive/chexpertdataset.zip\" chestdataset.zip"
      ],
      "execution_count": 0,
      "outputs": []
    },
    {
      "cell_type": "code",
      "metadata": {
        "id": "Ju6CenhYTzex",
        "colab_type": "code",
        "colab": {}
      },
      "source": [
        "%cd /content"
      ],
      "execution_count": 0,
      "outputs": []
    },
    {
      "cell_type": "code",
      "metadata": {
        "id": "Gs-jFYZ7T1bh",
        "colab_type": "code",
        "colab": {}
      },
      "source": [
        "!unzip chestdataset.zip"
      ],
      "execution_count": 0,
      "outputs": []
    }
  ],
  "metadata": {
    "colab": {
      "name": "DataSetDownload.ipynb",
      "provenance": [],
      "collapsed_sections": []
    },
    "kernelspec": {
      "name": "python3",
      "display_name": "Python 3"
    }
  },
  "nbformat": 4,
  "nbformat_minor": 0
}